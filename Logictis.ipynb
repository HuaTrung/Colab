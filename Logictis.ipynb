{
  "nbformat": 4,
  "nbformat_minor": 0,
  "metadata": {
    "colab": {
      "name": "Hello, Colaboratory",
      "version": "0.3.2",
      "provenance": [],
      "collapsed_sections": [],
      "toc_visible": true,
      "include_colab_link": true
    },
    "kernelspec": {
      "display_name": "Python 3",
      "name": "python3"
    }
  },
  "cells": [
    {
      "cell_type": "markdown",
      "metadata": {
        "id": "view-in-github",
        "colab_type": "text"
      },
      "source": [
        "<a href=\"https://colab.research.google.com/github/HuaTrung/Colab/blob/master/Logictis.ipynb\" target=\"_parent\"><img src=\"https://colab.research.google.com/assets/colab-badge.svg\" alt=\"Open In Colab\"/></a>"
      ]
    },
    {
      "metadata": {
        "id": "FVEjC4yCibBF",
        "colab_type": "code",
        "colab": {}
      },
      "cell_type": "code",
      "source": [
        "import numpy as np\n",
        "import matplotlib.pyplot as plt\n",
        "import pandas as pd\n",
        "from sklearn.metrics import r2_score\n",
        "from sklearn.linear_model import LinearRegression \n",
        "import seaborn as sns\n",
        "import matplotlib as plt"
      ],
      "execution_count": 0,
      "outputs": []
    },
    {
      "metadata": {
        "id": "tIburVeQidA2",
        "colab_type": "code",
        "colab": {}
      },
      "cell_type": "code",
      "source": [
        "class MyLinearRegression:\n",
        "    def __init__(self,x,y,degree):\n",
        "        self.size=len(x)\n",
        "        self.x_train_plot = x\n",
        "        self.x_train=self.map_feature(degree)\n",
        "        self.y_train = y.reshape(-1,1)\n",
        "        self.theta=np.zeros(x.shape[1]+1)\n",
        "    \n",
        "    def costFunction():\n",
        "      return np.sum(1/(2*size)*(x.dot(theta)-y.flatten())**2)\n",
        "    \n",
        "    def gradientDescent(self):\n",
        "        lerning_rate=0.01\n",
        "        self.theta=self.theta-np.sum((np.sum(self.x_train*self.theta,axis=1).reshape(-1,1)-self.y_train)*self.x_train,axis=0)*lerning_rate/self.size\n",
        "        return self.theta\n",
        "        \n",
        "    def plotConverage(self):\n",
        "        itter=[]\n",
        "        costfunction=[]\n",
        "        for i in range(0,100):\n",
        "            self.theta=self.gradientDescent()\n",
        "            itter.append(i)\n",
        "            costfunction.append(self.costFunction())\n",
        "        plt.ylabel('Cost Function')\n",
        "        plt.xlabel('Iterater')\n",
        "        plt.plot(np.array(itter), np.array(costfunction),'-')\n",
        "        plt.rcParams[\"figure.figsize\"] = [4,3]\n",
        "        plt.show()\n",
        "        \n",
        "    def trainHard(self):\n",
        "        for i in range(0,5000):\n",
        "            self.theta=self.gradientDescent()\n",
        "            \n",
        "    def plotLine(self):\n",
        "        self.y_result=np.sum(self.theta*self.x_train,axis=1)\n",
        "        plt.plot(self.x_train_plot, self.y_train, 'ro',markersize=3)\n",
        "        plt.plot(self.x_train_plot, self.y_result, '-')\n",
        "        plt.xlabel('X ASIX')\n",
        "        plt.ylabel('Y ASIX')\n",
        "        plt.rcParams[\"figure.figsize\"] = [4,3]\n",
        "        plt.show()\n",
        "\n",
        "    def CompareAccuracy(self):\n",
        "        clf = LinearRegression(normalize=True)\n",
        "        clf.fit(self.x_train_plot,self.y_train)\n",
        "        sk_y_pred = clf.predict(self.x_train_plot)\n",
        "        me_y_pred=np.sum(self.theta*self.x_train,axis=1)\n",
        "        print (\"sklearn: \")\n",
        "        print(r2_score(self.y_train,sk_y_pred))\n",
        "        print (\"Me: \")\n",
        "        print(r2_score(self.y_train,me_y_pred))\n",
        "\n",
        "    def standardize(self,data):\n",
        "        return (data - np.mean(data))/(np.max(data) - np.min(data))\n",
        "    \n",
        "    def map_feature(self,degree):\n",
        "        x=self.x_train_plot\n",
        "        pram=[]\n",
        "        for i in range(x.shape[1]):\n",
        "            pram.append([x[:,i],i,i+1])\n",
        "        result=np.array([x[:,i] for i in range(x.shape[1])]).T\n",
        "        listCurPar=result\n",
        "        result=self.standardize(result)\n",
        "        for i in range(2,degree+1):\n",
        "            list_temp=[]\n",
        "\n",
        "            for index in range(len(pram)):  \n",
        "                temp=0;\n",
        "                for j in range(pram[index][1],listCurPar.shape[1]):\n",
        "                    temp=temp+1\n",
        "                    list_temp.append((pram[index][0]*listCurPar[:,j]))\n",
        "\n",
        "                if(pram[index][1]==0):\n",
        "                    pram[index][1]=0\n",
        "                    pram[index][2]=pram[index][1]+temp\n",
        "                else:\n",
        "                    pram[index][1]=pram[index-1][2]\n",
        "                    pram[index][2]=pram[index][1]+temp\n",
        "            listCurPar=np.array(list_temp).T;\n",
        "            for i in list_temp:\n",
        "                result=np.append(result,self.standardize(i.reshape(-1,1)),axis=1)\n",
        "        self.x_train=np.append(np.ones(x.shape[0]).reshape(-1,1),result,axis=1)\n",
        "        self.theta=np.zeros(self.x_train.shape[1])\n",
        "    \n",
        "    def poly(sefl):\n",
        "        x=self.x_train\n",
        "        pram=[]\n",
        "        for i in range(x.shape[1]):\n",
        "            pram.append([x[:,i],i,i+1])\n",
        "        result=np.array([x[:,i] for i in range(x.shape[1])]).T\n",
        "        listCurPar=result\n",
        "        for i in range(2,degree):\n",
        "            list_temp=[]\n",
        "\n",
        "            for index in range(len(pram)):  \n",
        "                temp=0;\n",
        "                for j in range(pram[index][1],listCurPar.shape[1]):\n",
        "                    temp=temp+1\n",
        "                    list_temp.append((pram[index][0]*listCurPar[:,j]))\n",
        "\n",
        "                if(pram[index][1]==0):\n",
        "                    pram[index][1]=0\n",
        "                    pram[index][2]=pram[index][1]+temp\n",
        "                else:\n",
        "                    pram[index][1]=pram[index-1][2]\n",
        "                    pram[index][2]=pram[index][1]+temp\n",
        "            listCurPar=np.array(list_temp).T;\n",
        "            for i in list_temp:\n",
        "                result=np.append(result,i.reshape(-1,1),axis=1)\n",
        "        self.x_train=np.append(np.ones(x.shape[0]).reshape(-1,1),result,axis=1)\n",
        "        "
      ],
      "execution_count": 0,
      "outputs": []
    },
    {
      "metadata": {
        "id": "Uy1WG2J-ie0g",
        "colab_type": "code",
        "colab": {}
      },
      "cell_type": "code",
      "source": [
        "def generatePolyPoints(start, stop, num_points, coeff, noiseLevel = 1, plot = 1):\n",
        "    \"\"\"\n",
        "    Generate evenly spaced x and y coordinates in Euclidean space from a polynomial\n",
        "    with gaussian noise    \n",
        "    \n",
        "    Parameters\n",
        "    ------------\n",
        "    start : float, \n",
        "          Minimum value for the generated x-coordinates\n",
        "    \n",
        "    stop  : float\n",
        "          Maximum value for the generated x-coordinates\n",
        "    \n",
        "    num_points : int\n",
        "               Number of coordinates to generate\n",
        "    \n",
        "    coeff : 1-d array, \n",
        "    \n",
        "    noiseLevel : float, optional\n",
        "              Indicates amount of gaussian noise to add to the y-coordinates\n",
        "              generated from the polynomial characterized by coeff array. \n",
        "              Zero indicates no noise, while each integer increment results in\n",
        "              ten-fold noise increase\n",
        "    \n",
        "    plot : int, values = 1|~1 , optional\n",
        "        plot == 1 returns a matplotlib plot of the generated coordinates\n",
        "    \n",
        "    Returns\n",
        "    -----------       \n",
        "    x_pts : 1-d array, shape = [num_points,]     \n",
        "    y_pts : 1-d array, shape = [num_points,]\n",
        "    \"\"\"\n",
        "    x_pts = np.arange(start, stop, (stop - start)/num_points)\n",
        "    line = coeff[0]\n",
        "    \n",
        "    for i in np.arange(1, len(coeff)):          \n",
        "        line += coeff[i] * x_pts ** i \n",
        "\n",
        "    if noiseLevel > 0:\n",
        "        y_pts = np.random.normal(-(10 ** noiseLevel), 10 ** noiseLevel, len(x_pts)) + line\n",
        "    else:\n",
        "        y_pts = line\n",
        "\n",
        "    if plot == 1: #Plot option\n",
        "        plt.figure()\n",
        "        plt.scatter(x_pts, y_pts)\n",
        "        plt.xlabel('x')\n",
        "        plt.ylabel('y')\n",
        "        \n",
        "    return x_pts, y_pts"
      ],
      "execution_count": 0,
      "outputs": []
    },
    {
      "metadata": {
        "id": "6zVGnhKZiuQV",
        "colab_type": "code",
        "colab": {}
      },
      "cell_type": "code",
      "source": [
        "x_pts, y_pts = generatePolyPoints(0, 50, 100, [5, 1, 1], \n",
        "                                  noiseLevel = 2, plot = 0)"
      ],
      "execution_count": 0,
      "outputs": []
    },
    {
      "metadata": {
        "id": "adp-f37Oiy30",
        "colab_type": "code",
        "colab": {}
      },
      "cell_type": "code",
      "source": [
        "test2= MyLinearRegression(x_pts.reshape(-1,1),y_pts.reshape(-1,1))"
      ],
      "execution_count": 0,
      "outputs": []
    },
    {
      "metadata": {
        "id": "JywxYHbSi1yt",
        "colab_type": "code",
        "colab": {}
      },
      "cell_type": "code",
      "source": [
        "test2.map_feature(1)"
      ],
      "execution_count": 0,
      "outputs": []
    },
    {
      "metadata": {
        "id": "Km9RhqQhi3f9",
        "colab_type": "code",
        "colab": {}
      },
      "cell_type": "code",
      "source": [
        ""
      ],
      "execution_count": 0,
      "outputs": []
    }
  ]
}