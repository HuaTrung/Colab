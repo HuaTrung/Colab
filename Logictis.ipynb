{
  "nbformat": 4,
  "nbformat_minor": 0,
  "metadata": {
    "colab": {
      "name": "Hello, Colaboratory",
      "version": "0.3.2",
      "provenance": [],
      "collapsed_sections": [],
      "include_colab_link": true
    },
    "kernelspec": {
      "display_name": "Python 3",
      "name": "python3"
    }
  },
  "cells": [
    {
      "cell_type": "markdown",
      "metadata": {
        "id": "view-in-github",
        "colab_type": "text"
      },
      "source": [
        "<a href=\"https://colab.research.google.com/github/HuaTrung/Colab/blob/master/Logictis.ipynb\" target=\"_parent\"><img src=\"https://colab.research.google.com/assets/colab-badge.svg\" alt=\"Open In Colab\"/></a>"
      ]
    },
    {
      "metadata": {
        "id": "FVEjC4yCibBF",
        "colab_type": "code",
        "colab": {}
      },
      "cell_type": "code",
      "source": [
        "import numpy as np\n",
        "import matplotlib.pyplot as plt\n",
        "import pandas as pd\n",
        "from sklearn.metrics import r2_score\n",
        "from sklearn.linear_model import LinearRegression \n",
        "import seaborn as sns\n",
        "import matplotlib as plt\n",
        "from matplotlib import figure\n"
      ],
      "execution_count": 0,
      "outputs": []
    },
    {
      "metadata": {
        "id": "tIburVeQidA2",
        "colab_type": "code",
        "colab": {}
      },
      "cell_type": "code",
      "source": [
        "class MyLinearRegression:\n",
        "    def __init__(self,x,y,degree,lerning_rate):\n",
        "        self.size=len(x)\n",
        "        self.x_plot = x\n",
        "        self.x = self.map_feature(x,degree)\n",
        "        self.y = y.reshape(-1,1)\n",
        "        self.theta=np.zeros(self.x.shape[1])\n",
        "        self.lerning_rate=lerning_rate\n",
        "        self.listCostFunction=[]\n",
        "    \n",
        "    def costFunction(self):\n",
        "      return np.sum(1/(2*self.size)*(self.x.dot(self.theta)-self.y.flatten())**2)\n",
        "    \n",
        "    def gradientDescent(self):\n",
        "      self.theta=self.theta-self.x.T.dot((self.x.dot(self.theta)-self.y.flatten()))*self.lerning_rate/self.size\n",
        "        \n",
        "    def makeSomeThingFun(self,iteration,tracking=None):\n",
        "        for i in range(iteration):\n",
        "            self.gradientDescent()\n",
        "            if(tracking is not None and iteration%tracking==0):\n",
        "              self.listCostFunction.append([i,self.costFunction()])\n",
        "    \n",
        "    def trackingCostFunction(self):\n",
        "        sns.set(rc={'figure.figsize':(9,6)})\n",
        "        track=sns.lineplot(x=\"x\",y=\"y\",data=pd.DataFrame.from_dict({\"x\":[i[0] for i in self.listCostFunction],\"y\":[i[1] for i in self.listCostFunction]}))\n",
        "        \n",
        "    def CompareAccuracy(self):\n",
        "        clf = LinearRegression(normalize=True)\n",
        "        clf.fit(self.x,self.y)\n",
        "        sk_y_pred = clf.predict(self.x_plot)\n",
        "        me_y_pred=np.sum(self.theta*self.x,axis=1)\n",
        "        print (\"sklearn: \")\n",
        "        print(r2_score(self.y,sk_y_pred))\n",
        "        print (\"Me: \")\n",
        "        print(r2_score(self.y,me_y_pred))\n",
        "\n",
        "    def standardize(self,data):\n",
        "        return (data - np.mean(data))/(np.max(data) - np.min(data))\n",
        "    \n",
        "    def map_feature(self,x,degree):\n",
        "        pram=[]\n",
        "        for i in range(x.shape[1]):\n",
        "            pram.append([x[:,i],i,i+1])\n",
        "        result=np.array([x[:,i] for i in range(x.shape[1])]).T\n",
        "        listCurPar=result\n",
        "        result=self.standardize(result)\n",
        "        for i in range(2,degree+1):\n",
        "            list_temp=[]\n",
        "\n",
        "            for index in range(len(pram)):  \n",
        "                temp=0;\n",
        "                for j in range(pram[index][1],listCurPar.shape[1]):\n",
        "                    temp=temp+1\n",
        "                    list_temp.append((pram[index][0]*listCurPar[:,j]))\n",
        "\n",
        "                if(pram[index][1]==0):\n",
        "                    pram[index][1]=0\n",
        "                    pram[index][2]=pram[index][1]+temp\n",
        "                else:\n",
        "                    pram[index][1]=pram[index-1][2]\n",
        "                    pram[index][2]=pram[index][1]+temp\n",
        "            listCurPar=np.array(list_temp).T;\n",
        "            for i in list_temp:\n",
        "                result=np.append(result,self.standardize(i.reshape(-1,1)),axis=1)\n",
        "        return np.append(np.ones(x.shape[0]).reshape(-1,1),result,axis=1)\n",
        "\n",
        "    def plot(self,model=None):\n",
        "        sns.set(rc={'figure.figsize':(9,6)})\n",
        "        ax=sns.scatterplot(x=\"x\",y=\"y\",data=pd.DataFrame.from_dict({\"x\":self.x_plot.flatten(),\"y\":self.y.flatten()}))\n",
        "        if(model is not None):\n",
        "          ax=sns.lineplot(x=\"x\",y=\"y\",data=pd.DataFrame.from_dict({\"x\":self.x_plot.flatten(),\"y\":self.x.dot(self.theta).flatten()}))"
      ],
      "execution_count": 0,
      "outputs": []
    },
    {
      "metadata": {
        "id": "6zVGnhKZiuQV",
        "colab_type": "code",
        "colab": {}
      },
      "cell_type": "code",
      "source": [
        "def generatePolyPoints(start, stop, num_points, coeff, noiseLevel = 1, plot = 1):\n",
        "    x_pts = np.arange(start, stop, (stop - start)/num_points)\n",
        "    line = coeff[0]\n",
        "    \n",
        "    for i in np.arange(1, len(coeff)):          \n",
        "        line += coeff[i] * x_pts ** i \n",
        "\n",
        "    if noiseLevel > 0:\n",
        "        y_pts = np.random.normal(-(10 ** noiseLevel), 10 ** noiseLevel, len(x_pts)) + line\n",
        "    else:\n",
        "        y_pts = line\n",
        "\n",
        "    if plot == 1: #Plot option\n",
        "        plt.figure()\n",
        "        plt.scatter(x_pts, y_pts)\n",
        "        plt.xlabel('x')\n",
        "        plt.ylabel('y')\n",
        "        \n",
        "    return x_pts, y_pts"
      ],
      "execution_count": 0,
      "outputs": []
    },
    {
      "metadata": {
        "id": "0ofS3eVHsYrv",
        "colab_type": "code",
        "colab": {}
      },
      "cell_type": "code",
      "source": [
        "x_pts, y_pts = generatePolyPoints(0, 50, 100, [5, 1, 1], \n",
        "                                  noiseLevel = 2, plot = 0)"
      ],
      "execution_count": 0,
      "outputs": []
    },
    {
      "metadata": {
        "id": "mZQhTGXEl0xZ",
        "colab_type": "code",
        "colab": {}
      },
      "cell_type": "code",
      "source": [
        "test=MyLinearRegression(boston.data[:,5].reshape(-1,1),boston.target.reshape(-1,1),6,0.01)"
      ],
      "execution_count": 0,
      "outputs": []
    },
    {
      "metadata": {
        "id": "MBjFunDamHER",
        "colab_type": "code",
        "colab": {}
      },
      "cell_type": "code",
      "source": [
        "test.makeSomeThingFun(10000)"
      ],
      "execution_count": 0,
      "outputs": []
    },
    {
      "metadata": {
        "id": "qMHZNZRqmh0B",
        "colab_type": "code",
        "colab": {
          "base_uri": "https://localhost:8080/",
          "height": 34
        },
        "outputId": "f97c7763-094d-4734-a1e5-eb63c6e14399"
      },
      "cell_type": "code",
      "source": [
        "test.costFunction()"
      ],
      "execution_count": 10,
      "outputs": [
        {
          "output_type": "execute_result",
          "data": {
            "text/plain": [
              "19.729198023302047"
            ]
          },
          "metadata": {
            "tags": []
          },
          "execution_count": 10
        }
      ]
    },
    {
      "metadata": {
        "id": "iV6YO8dCmN_g",
        "colab_type": "code",
        "colab": {
          "base_uri": "https://localhost:8080/",
          "height": 302
        },
        "outputId": "c1bdb593-b588-49ea-eeed-f1a86c81350e"
      },
      "cell_type": "code",
      "source": [
        "test.plot(\"line\")"
      ],
      "execution_count": 11,
      "outputs": [
        {
          "output_type": "error",
          "ename": "AttributeError",
          "evalue": "ignored",
          "traceback": [
            "\u001b[0;31m---------------------------------------------------------------------------\u001b[0m",
            "\u001b[0;31mAttributeError\u001b[0m                            Traceback (most recent call last)",
            "\u001b[0;32m<ipython-input-11-177b77f433d6>\u001b[0m in \u001b[0;36m<module>\u001b[0;34m()\u001b[0m\n\u001b[0;32m----> 1\u001b[0;31m \u001b[0mtest\u001b[0m\u001b[0;34m.\u001b[0m\u001b[0mplot\u001b[0m\u001b[0;34m(\u001b[0m\u001b[0;34m\"line\"\u001b[0m\u001b[0;34m)\u001b[0m\u001b[0;34m\u001b[0m\u001b[0;34m\u001b[0m\u001b[0m\n\u001b[0m",
            "\u001b[0;32m<ipython-input-2-018502ed3c1e>\u001b[0m in \u001b[0;36mplot\u001b[0;34m(self, model)\u001b[0m\n\u001b[1;32m     67\u001b[0m     \u001b[0;32mdef\u001b[0m \u001b[0mplot\u001b[0m\u001b[0;34m(\u001b[0m\u001b[0mself\u001b[0m\u001b[0;34m,\u001b[0m\u001b[0mmodel\u001b[0m\u001b[0;34m=\u001b[0m\u001b[0;32mNone\u001b[0m\u001b[0;34m)\u001b[0m\u001b[0;34m:\u001b[0m\u001b[0;34m\u001b[0m\u001b[0;34m\u001b[0m\u001b[0m\n\u001b[1;32m     68\u001b[0m         \u001b[0msns\u001b[0m\u001b[0;34m.\u001b[0m\u001b[0mset\u001b[0m\u001b[0;34m(\u001b[0m\u001b[0mrc\u001b[0m\u001b[0;34m=\u001b[0m\u001b[0;34m{\u001b[0m\u001b[0;34m'figure.figsize'\u001b[0m\u001b[0;34m:\u001b[0m\u001b[0;34m(\u001b[0m\u001b[0;36m9\u001b[0m\u001b[0;34m,\u001b[0m\u001b[0;36m6\u001b[0m\u001b[0;34m)\u001b[0m\u001b[0;34m}\u001b[0m\u001b[0;34m)\u001b[0m\u001b[0;34m\u001b[0m\u001b[0;34m\u001b[0m\u001b[0m\n\u001b[0;32m---> 69\u001b[0;31m         \u001b[0max\u001b[0m\u001b[0;34m=\u001b[0m\u001b[0msns\u001b[0m\u001b[0;34m.\u001b[0m\u001b[0mscatterplot\u001b[0m\u001b[0;34m(\u001b[0m\u001b[0mx\u001b[0m\u001b[0;34m=\u001b[0m\u001b[0;34m\"x\"\u001b[0m\u001b[0;34m,\u001b[0m\u001b[0my\u001b[0m\u001b[0;34m=\u001b[0m\u001b[0;34m\"y\"\u001b[0m\u001b[0;34m,\u001b[0m\u001b[0mdata\u001b[0m\u001b[0;34m=\u001b[0m\u001b[0mpd\u001b[0m\u001b[0;34m.\u001b[0m\u001b[0mDataFrame\u001b[0m\u001b[0;34m.\u001b[0m\u001b[0mfrom_dict\u001b[0m\u001b[0;34m(\u001b[0m\u001b[0;34m{\u001b[0m\u001b[0;34m\"x\"\u001b[0m\u001b[0;34m:\u001b[0m\u001b[0mself\u001b[0m\u001b[0;34m.\u001b[0m\u001b[0mx_plot\u001b[0m\u001b[0;34m.\u001b[0m\u001b[0mflatten\u001b[0m\u001b[0;34m(\u001b[0m\u001b[0;34m)\u001b[0m\u001b[0;34m,\u001b[0m\u001b[0;34m\"y\"\u001b[0m\u001b[0;34m:\u001b[0m\u001b[0mself\u001b[0m\u001b[0;34m.\u001b[0m\u001b[0my\u001b[0m\u001b[0;34m.\u001b[0m\u001b[0mflatten\u001b[0m\u001b[0;34m(\u001b[0m\u001b[0;34m)\u001b[0m\u001b[0;34m}\u001b[0m\u001b[0;34m)\u001b[0m\u001b[0;34m)\u001b[0m\u001b[0;34m\u001b[0m\u001b[0;34m\u001b[0m\u001b[0m\n\u001b[0m\u001b[1;32m     70\u001b[0m         \u001b[0;32mif\u001b[0m\u001b[0;34m(\u001b[0m\u001b[0mmodel\u001b[0m \u001b[0;32mis\u001b[0m \u001b[0;32mnot\u001b[0m \u001b[0;32mNone\u001b[0m\u001b[0;34m)\u001b[0m\u001b[0;34m:\u001b[0m\u001b[0;34m\u001b[0m\u001b[0;34m\u001b[0m\u001b[0m\n\u001b[1;32m     71\u001b[0m           \u001b[0max\u001b[0m\u001b[0;34m=\u001b[0m\u001b[0msns\u001b[0m\u001b[0;34m.\u001b[0m\u001b[0mlineplot\u001b[0m\u001b[0;34m(\u001b[0m\u001b[0mx\u001b[0m\u001b[0;34m=\u001b[0m\u001b[0;34m\"x\"\u001b[0m\u001b[0;34m,\u001b[0m\u001b[0my\u001b[0m\u001b[0;34m=\u001b[0m\u001b[0;34m\"y\"\u001b[0m\u001b[0;34m,\u001b[0m\u001b[0mdata\u001b[0m\u001b[0;34m=\u001b[0m\u001b[0mpd\u001b[0m\u001b[0;34m.\u001b[0m\u001b[0mDataFrame\u001b[0m\u001b[0;34m.\u001b[0m\u001b[0mfrom_dict\u001b[0m\u001b[0;34m(\u001b[0m\u001b[0;34m{\u001b[0m\u001b[0;34m\"x\"\u001b[0m\u001b[0;34m:\u001b[0m\u001b[0mself\u001b[0m\u001b[0;34m.\u001b[0m\u001b[0mx_plot\u001b[0m\u001b[0;34m.\u001b[0m\u001b[0mflatten\u001b[0m\u001b[0;34m(\u001b[0m\u001b[0;34m)\u001b[0m\u001b[0;34m,\u001b[0m\u001b[0;34m\"y\"\u001b[0m\u001b[0;34m:\u001b[0m\u001b[0mself\u001b[0m\u001b[0;34m.\u001b[0m\u001b[0mx\u001b[0m\u001b[0;34m.\u001b[0m\u001b[0mdot\u001b[0m\u001b[0;34m(\u001b[0m\u001b[0mself\u001b[0m\u001b[0;34m.\u001b[0m\u001b[0mtheta\u001b[0m\u001b[0;34m)\u001b[0m\u001b[0;34m.\u001b[0m\u001b[0mflatten\u001b[0m\u001b[0;34m(\u001b[0m\u001b[0;34m)\u001b[0m\u001b[0;34m}\u001b[0m\u001b[0;34m)\u001b[0m\u001b[0;34m)\u001b[0m\u001b[0;34m\u001b[0m\u001b[0;34m\u001b[0m\u001b[0m\n",
            "\u001b[0;31mAttributeError\u001b[0m: module 'seaborn' has no attribute 'scatterplot'"
          ]
        }
      ]
    },
    {
      "metadata": {
        "id": "VDlMrIyctzPd",
        "colab_type": "code",
        "colab": {}
      },
      "cell_type": "code",
      "source": [
        "import sklearn.datasets as dataset"
      ],
      "execution_count": 0,
      "outputs": []
    },
    {
      "metadata": {
        "id": "SVMEZ1KYxiKJ",
        "colab_type": "code",
        "colab": {}
      },
      "cell_type": "code",
      "source": [
        "boston = dataset.load_boston()"
      ],
      "execution_count": 0,
      "outputs": []
    },
    {
      "metadata": {
        "id": "YpuGiPcVxk4x",
        "colab_type": "code",
        "colab": {}
      },
      "cell_type": "code",
      "source": [
        "for i in range(len(boston.feature_names)):\n",
        "  sns.set(rc={'figure.figsize':(9,6)})\n",
        "  ax1=sns.scatterplot(x=boston.feature_names[i],y=\"price\",data=pd.DataFrame.from_dict({boston.feature_names[i]:boston.data[:,i].flatten(),\"price\":boston.target.flatten()}))"
      ],
      "execution_count": 0,
      "outputs": []
    },
    {
      "metadata": {
        "id": "Rjq81rqIk3CR",
        "colab_type": "code",
        "colab": {}
      },
      "cell_type": "code",
      "source": [
        "i=5\n",
        "ax1=sns.scatterplot(x=boston.feature_names[i],y=\"price\",data=pd.DataFrame.from_dict({boston.feature_names[i]:boston.data[:,i].flatten(),\"price\":boston.target.flatten()}))"
      ],
      "execution_count": 0,
      "outputs": []
    },
    {
      "metadata": {
        "id": "FfRqh_FIasOZ",
        "colab_type": "code",
        "colab": {}
      },
      "cell_type": "code",
      "source": [
        ""
      ],
      "execution_count": 0,
      "outputs": []
    }
  ]
}